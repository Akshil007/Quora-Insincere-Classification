{
 "cells": [
  {
   "cell_type": "code",
   "execution_count": 1,
   "metadata": {
    "_cell_guid": "b1076dfc-b9ad-4769-8c92-a6c4dae69d19",
    "_uuid": "8f2839f25d086af736a60e9eeb907d3b93b6e0e5",
    "execution": {
     "iopub.execute_input": "2020-12-20T11:00:07.153090Z",
     "iopub.status.busy": "2020-12-20T11:00:07.152358Z",
     "iopub.status.idle": "2020-12-20T11:00:10.348943Z",
     "shell.execute_reply": "2020-12-20T11:00:10.348136Z"
    },
    "papermill": {
     "duration": 3.239854,
     "end_time": "2020-12-20T11:00:10.349108",
     "exception": false,
     "start_time": "2020-12-20T11:00:07.109254",
     "status": "completed"
    },
    "tags": []
   },
   "outputs": [
    {
     "name": "stdout",
     "output_type": "stream",
     "text": [
      "[nltk_data] Downloading package stopwords to /usr/share/nltk_data...\n",
      "[nltk_data]   Package stopwords is already up-to-date!\n",
      "[nltk_data] Downloading package punkt to /usr/share/nltk_data...\n",
      "[nltk_data]   Package punkt is already up-to-date!\n"
     ]
    }
   ],
   "source": [
    "import sys\n",
    "import nltk\n",
    "import sklearn\n",
    "import pandas as pd\n",
    "import numpy as np\n",
    "import matplotlib.pyplot as plt\n",
    "from nltk.corpus import stopwords\n",
    "nltk.download('stopwords')\n",
    "from nltk.tokenize import word_tokenize\n",
    "nltk.download('punkt')\n",
    "from wordcloud import WordCloud \n",
    "from sklearn.feature_extraction.text import TfidfVectorizer\n",
    "from sklearn.feature_extraction.text import CountVectorizer\n",
    "from imblearn.under_sampling import RandomUnderSampler\n",
    "from scipy.sparse import hstack\n",
    "import re                                  \n",
    "import string            \n",
    "import scipy\n",
    "from sklearn.model_selection import KFold, StratifiedKFold\n",
    "import sklearn.metrics as metrics\n",
    "from sklearn.linear_model import LogisticRegressionCV\n",
    "import seaborn as sns\n",
    "from nltk.corpus import stopwords          \n",
    "from nltk.stem import PorterStemmer     \n",
    "from sklearn.model_selection import train_test_split\n",
    "from nltk.stem import WordNetLemmatizer \n"
   ]
  },
  {
   "cell_type": "markdown",
   "metadata": {
    "papermill": {
     "duration": 0.030269,
     "end_time": "2020-12-20T11:00:10.410715",
     "exception": false,
     "start_time": "2020-12-20T11:00:10.380446",
     "status": "completed"
    },
    "tags": []
   },
   "source": [
    "### 1. Load data"
   ]
  },
  {
   "cell_type": "code",
   "execution_count": 2,
   "metadata": {
    "_cell_guid": "79c7e3d0-c299-4dcb-8224-4455121ee9b0",
    "_uuid": "d629ff2d2480ee46fbb7e2d37f6b5fab8052498a",
    "execution": {
     "iopub.execute_input": "2020-12-20T11:00:10.488141Z",
     "iopub.status.busy": "2020-12-20T11:00:10.487334Z",
     "iopub.status.idle": "2020-12-20T11:00:15.290409Z",
     "shell.execute_reply": "2020-12-20T11:00:15.289613Z"
    },
    "papermill": {
     "duration": 4.849312,
     "end_time": "2020-12-20T11:00:15.290555",
     "exception": false,
     "start_time": "2020-12-20T11:00:10.441243",
     "status": "completed"
    },
    "tags": []
   },
   "outputs": [
    {
     "data": {
      "text/html": [
       "<div>\n",
       "<style scoped>\n",
       "    .dataframe tbody tr th:only-of-type {\n",
       "        vertical-align: middle;\n",
       "    }\n",
       "\n",
       "    .dataframe tbody tr th {\n",
       "        vertical-align: top;\n",
       "    }\n",
       "\n",
       "    .dataframe thead th {\n",
       "        text-align: right;\n",
       "    }\n",
       "</style>\n",
       "<table border=\"1\" class=\"dataframe\">\n",
       "  <thead>\n",
       "    <tr style=\"text-align: right;\">\n",
       "      <th></th>\n",
       "      <th>target</th>\n",
       "    </tr>\n",
       "  </thead>\n",
       "  <tbody>\n",
       "    <tr>\n",
       "      <th>count</th>\n",
       "      <td>783673.000000</td>\n",
       "    </tr>\n",
       "    <tr>\n",
       "      <th>mean</th>\n",
       "      <td>0.061826</td>\n",
       "    </tr>\n",
       "    <tr>\n",
       "      <th>std</th>\n",
       "      <td>0.240839</td>\n",
       "    </tr>\n",
       "    <tr>\n",
       "      <th>min</th>\n",
       "      <td>0.000000</td>\n",
       "    </tr>\n",
       "    <tr>\n",
       "      <th>25%</th>\n",
       "      <td>0.000000</td>\n",
       "    </tr>\n",
       "    <tr>\n",
       "      <th>50%</th>\n",
       "      <td>0.000000</td>\n",
       "    </tr>\n",
       "    <tr>\n",
       "      <th>75%</th>\n",
       "      <td>0.000000</td>\n",
       "    </tr>\n",
       "    <tr>\n",
       "      <th>max</th>\n",
       "      <td>1.000000</td>\n",
       "    </tr>\n",
       "  </tbody>\n",
       "</table>\n",
       "</div>"
      ],
      "text/plain": [
       "              target\n",
       "count  783673.000000\n",
       "mean        0.061826\n",
       "std         0.240839\n",
       "min         0.000000\n",
       "25%         0.000000\n",
       "50%         0.000000\n",
       "75%         0.000000\n",
       "max         1.000000"
      ]
     },
     "execution_count": 2,
     "metadata": {},
     "output_type": "execute_result"
    }
   ],
   "source": [
    "train_data = pd.read_csv('../input/quora/train.csv')\n",
    "test_data = pd.read_csv('../input/quora/test.csv')\n",
    "train_data.describe()"
   ]
  },
  {
   "cell_type": "code",
   "execution_count": 3,
   "metadata": {
    "execution": {
     "iopub.execute_input": "2020-12-20T11:00:15.372475Z",
     "iopub.status.busy": "2020-12-20T11:00:15.371646Z",
     "iopub.status.idle": "2020-12-20T11:00:15.463146Z",
     "shell.execute_reply": "2020-12-20T11:00:15.462576Z"
    },
    "papermill": {
     "duration": 0.140654,
     "end_time": "2020-12-20T11:00:15.463280",
     "exception": false,
     "start_time": "2020-12-20T11:00:15.322626",
     "status": "completed"
    },
    "tags": []
   },
   "outputs": [],
   "source": [
    "train=train_data.copy()\n",
    "test=test_data.copy()\n",
    "df=train.copy()"
   ]
  },
  {
   "cell_type": "code",
   "execution_count": 4,
   "metadata": {
    "execution": {
     "iopub.execute_input": "2020-12-20T11:00:15.541806Z",
     "iopub.status.busy": "2020-12-20T11:00:15.532324Z",
     "iopub.status.idle": "2020-12-20T11:00:15.548002Z",
     "shell.execute_reply": "2020-12-20T11:00:15.547259Z"
    },
    "papermill": {
     "duration": 0.052759,
     "end_time": "2020-12-20T11:00:15.548120",
     "exception": false,
     "start_time": "2020-12-20T11:00:15.495361",
     "status": "completed"
    },
    "tags": []
   },
   "outputs": [
    {
     "name": "stdout",
     "output_type": "stream",
     "text": [
      "(783673, 3) (522449, 2)\n"
     ]
    },
    {
     "data": {
      "text/html": [
       "<div>\n",
       "<style scoped>\n",
       "    .dataframe tbody tr th:only-of-type {\n",
       "        vertical-align: middle;\n",
       "    }\n",
       "\n",
       "    .dataframe tbody tr th {\n",
       "        vertical-align: top;\n",
       "    }\n",
       "\n",
       "    .dataframe thead th {\n",
       "        text-align: right;\n",
       "    }\n",
       "</style>\n",
       "<table border=\"1\" class=\"dataframe\">\n",
       "  <thead>\n",
       "    <tr style=\"text-align: right;\">\n",
       "      <th></th>\n",
       "      <th>qid</th>\n",
       "      <th>question_text</th>\n",
       "      <th>target</th>\n",
       "    </tr>\n",
       "  </thead>\n",
       "  <tbody>\n",
       "    <tr>\n",
       "      <th>0</th>\n",
       "      <td>6f47b0f60633c2056455</td>\n",
       "      <td>How can I reply to this comment, \"India is poo...</td>\n",
       "      <td>0</td>\n",
       "    </tr>\n",
       "    <tr>\n",
       "      <th>1</th>\n",
       "      <td>d49b3966070b27bf07fc</td>\n",
       "      <td>What did they use for transportation in Ancien...</td>\n",
       "      <td>0</td>\n",
       "    </tr>\n",
       "    <tr>\n",
       "      <th>2</th>\n",
       "      <td>6d5faa49380557c8ca7b</td>\n",
       "      <td>What are the most important provisions of Obam...</td>\n",
       "      <td>0</td>\n",
       "    </tr>\n",
       "    <tr>\n",
       "      <th>3</th>\n",
       "      <td>cebea75faa47388edcf5</td>\n",
       "      <td>At what age do most Finns master English today?</td>\n",
       "      <td>0</td>\n",
       "    </tr>\n",
       "    <tr>\n",
       "      <th>4</th>\n",
       "      <td>2a7b76a679cadb0a016e</td>\n",
       "      <td>What is cheapest place to live in India for on...</td>\n",
       "      <td>0</td>\n",
       "    </tr>\n",
       "    <tr>\n",
       "      <th>...</th>\n",
       "      <td>...</td>\n",
       "      <td>...</td>\n",
       "      <td>...</td>\n",
       "    </tr>\n",
       "    <tr>\n",
       "      <th>783668</th>\n",
       "      <td>8462d2ead608fe1dcf9b</td>\n",
       "      <td>What causes a lump on the back of your head?</td>\n",
       "      <td>0</td>\n",
       "    </tr>\n",
       "    <tr>\n",
       "      <th>783669</th>\n",
       "      <td>12d225a4e28317c02151</td>\n",
       "      <td>What is standalone in simple way?</td>\n",
       "      <td>0</td>\n",
       "    </tr>\n",
       "    <tr>\n",
       "      <th>783670</th>\n",
       "      <td>03edc045cadbb11558dd</td>\n",
       "      <td>How do you prevent having low potassium while ...</td>\n",
       "      <td>0</td>\n",
       "    </tr>\n",
       "    <tr>\n",
       "      <th>783671</th>\n",
       "      <td>c6fb7dc8d0b34160dbe4</td>\n",
       "      <td>What is it like to meet the band Imagine Dragons?</td>\n",
       "      <td>0</td>\n",
       "    </tr>\n",
       "    <tr>\n",
       "      <th>783672</th>\n",
       "      <td>6a58b525dc9ccaf25b72</td>\n",
       "      <td>How can I find an intelligent, well reasoned p...</td>\n",
       "      <td>1</td>\n",
       "    </tr>\n",
       "  </tbody>\n",
       "</table>\n",
       "<p>783673 rows × 3 columns</p>\n",
       "</div>"
      ],
      "text/plain": [
       "                         qid  \\\n",
       "0       6f47b0f60633c2056455   \n",
       "1       d49b3966070b27bf07fc   \n",
       "2       6d5faa49380557c8ca7b   \n",
       "3       cebea75faa47388edcf5   \n",
       "4       2a7b76a679cadb0a016e   \n",
       "...                      ...   \n",
       "783668  8462d2ead608fe1dcf9b   \n",
       "783669  12d225a4e28317c02151   \n",
       "783670  03edc045cadbb11558dd   \n",
       "783671  c6fb7dc8d0b34160dbe4   \n",
       "783672  6a58b525dc9ccaf25b72   \n",
       "\n",
       "                                            question_text  target  \n",
       "0       How can I reply to this comment, \"India is poo...       0  \n",
       "1       What did they use for transportation in Ancien...       0  \n",
       "2       What are the most important provisions of Obam...       0  \n",
       "3         At what age do most Finns master English today?       0  \n",
       "4       What is cheapest place to live in India for on...       0  \n",
       "...                                                   ...     ...  \n",
       "783668       What causes a lump on the back of your head?       0  \n",
       "783669                  What is standalone in simple way?       0  \n",
       "783670  How do you prevent having low potassium while ...       0  \n",
       "783671  What is it like to meet the band Imagine Dragons?       0  \n",
       "783672  How can I find an intelligent, well reasoned p...       1  \n",
       "\n",
       "[783673 rows x 3 columns]"
      ]
     },
     "execution_count": 4,
     "metadata": {},
     "output_type": "execute_result"
    }
   ],
   "source": [
    "print(np.shape(train),np.shape(test))\n",
    "train"
   ]
  },
  {
   "cell_type": "markdown",
   "metadata": {
    "papermill": {
     "duration": 0.032783,
     "end_time": "2020-12-20T11:00:15.614078",
     "exception": false,
     "start_time": "2020-12-20T11:00:15.581295",
     "status": "completed"
    },
    "tags": []
   },
   "source": [
    "### 2. EDA"
   ]
  },
  {
   "cell_type": "markdown",
   "metadata": {
    "papermill": {
     "duration": 0.032217,
     "end_time": "2020-12-20T11:00:15.680102",
     "exception": false,
     "start_time": "2020-12-20T11:00:15.647885",
     "status": "completed"
    },
    "tags": []
   },
   "source": [
    "Here we tried to extract some features from data before preprocessing like no of lines,question marks,no of capital words etc.\n",
    "And tried to plot correlation between them."
   ]
  },
  {
   "cell_type": "code",
   "execution_count": 5,
   "metadata": {
    "execution": {
     "iopub.execute_input": "2020-12-20T11:00:15.762852Z",
     "iopub.status.busy": "2020-12-20T11:00:15.757328Z",
     "iopub.status.idle": "2020-12-20T11:00:47.066989Z",
     "shell.execute_reply": "2020-12-20T11:00:47.065342Z"
    },
    "papermill": {
     "duration": 31.353431,
     "end_time": "2020-12-20T11:00:47.067126",
     "exception": false,
     "start_time": "2020-12-20T11:00:15.713695",
     "status": "completed"
    },
    "tags": []
   },
   "outputs": [],
   "source": [
    "#count no of lines\n",
    "df[\"count_lines\"]=df[\"question_text\"].apply(lambda x:len(re.findall(\"\\n\",str(x)))+1)\n",
    "#count no of question marks\n",
    "df[\"count_que_marks\"]=df[\"question_text\"].apply(lambda x:len(re.findall(\"\\?\",str(x)))+1)\n",
    "#count no of words\n",
    "df[\"count_words\"]=df[\"question_text\"].apply(lambda x:len(str(x).split()))\n",
    "#number of unique words\n",
    "df[\"count_unique_words\"]=df[\"question_text\"].apply(lambda x:len(set(str(x).split())))\n",
    "#Letters\n",
    "df[\"count_letters\"]=df[\"question_text\"].apply(lambda x:len(str(x)))\n",
    "#capital words\n",
    "df[\"count_words_uppercase\"]=df[\"question_text\"].apply(lambda x:len([w for w in str(x).split() if w.isupper()]))\n",
    "#howmany titles\n",
    "df[\"count_words_titles\"]=df[\"question_text\"].apply(lambda x:len([w for w in str(x).split() if w.istitle()]))\n",
    "#average word length\n",
    "df[\"mean_word_len\"]=df[\"question_text\"].apply(lambda x:np.mean([len(w) for w in str(x).split()]))\n"
   ]
  },
  {
   "cell_type": "code",
   "execution_count": 6,
   "metadata": {
    "execution": {
     "iopub.execute_input": "2020-12-20T11:00:47.140145Z",
     "iopub.status.busy": "2020-12-20T11:00:47.139430Z",
     "iopub.status.idle": "2020-12-20T11:00:48.063952Z",
     "shell.execute_reply": "2020-12-20T11:00:48.063253Z"
    },
    "papermill": {
     "duration": 0.963487,
     "end_time": "2020-12-20T11:00:48.064067",
     "exception": false,
     "start_time": "2020-12-20T11:00:47.100580",
     "status": "completed"
    },
    "tags": []
   },
   "outputs": [
    {
     "data": {
      "image/png": "[encoded data removed]",
      "text/plain": [
       "<Figure size 504x504 with 2 Axes>"
      ]
     },
     "metadata": {
      "needs_background": "light"
     },
     "output_type": "display_data"
    }
   ],
   "source": [
    "cor=df.corr()\n",
    "plt.figure(figsize=(7,7))\n",
    "sns.heatmap(cor,annot=True,cmap=\"coolwarm\")\n",
    "plt.show()"
   ]
  },
  {
   "cell_type": "markdown",
   "metadata": {
    "papermill": {
     "duration": 0.034537,
     "end_time": "2020-12-20T11:00:48.134015",
     "exception": false,
     "start_time": "2020-12-20T11:00:48.099478",
     "status": "completed"
    },
    "tags": []
   },
   "source": [
    "From above plot it is clearly seen that there is not much correaltion between the target and extracted features. So we will not be including this features in our model."
   ]
  },
  {
   "cell_type": "code",
   "execution_count": 7,
   "metadata": {
    "execution": {
     "iopub.execute_input": "2020-12-20T11:00:48.212107Z",
     "iopub.status.busy": "2020-12-20T11:00:48.210814Z",
     "iopub.status.idle": "2020-12-20T11:00:48.235483Z",
     "shell.execute_reply": "2020-12-20T11:00:48.234864Z"
    },
    "papermill": {
     "duration": 0.06602,
     "end_time": "2020-12-20T11:00:48.235597",
     "exception": false,
     "start_time": "2020-12-20T11:00:48.169577",
     "status": "completed"
    },
    "tags": []
   },
   "outputs": [
    {
     "data": {
      "text/html": [
       "<div>\n",
       "<style scoped>\n",
       "    .dataframe tbody tr th:only-of-type {\n",
       "        vertical-align: middle;\n",
       "    }\n",
       "\n",
       "    .dataframe tbody tr th {\n",
       "        vertical-align: top;\n",
       "    }\n",
       "\n",
       "    .dataframe thead th {\n",
       "        text-align: right;\n",
       "    }\n",
       "</style>\n",
       "<table border=\"1\" class=\"dataframe\">\n",
       "  <thead>\n",
       "    <tr style=\"text-align: right;\">\n",
       "      <th></th>\n",
       "      <th>qid</th>\n",
       "      <th>question_text</th>\n",
       "    </tr>\n",
       "  </thead>\n",
       "  <tbody>\n",
       "    <tr>\n",
       "      <th>0</th>\n",
       "      <td>f56a9a31974dc66186e8</td>\n",
       "      <td>Is it a good idea to go through a phlebotomy c...</td>\n",
       "    </tr>\n",
       "    <tr>\n",
       "      <th>1</th>\n",
       "      <td>d957c3758060f45da303</td>\n",
       "      <td>How can I fix a lead into a camlin compass to ...</td>\n",
       "    </tr>\n",
       "    <tr>\n",
       "      <th>2</th>\n",
       "      <td>ad822d5abaedb9e247b9</td>\n",
       "      <td>How many animes are there in world?</td>\n",
       "    </tr>\n",
       "    <tr>\n",
       "      <th>3</th>\n",
       "      <td>4e979c23eeb6a4bd1f2e</td>\n",
       "      <td>How do I tell my family I cut?</td>\n",
       "    </tr>\n",
       "    <tr>\n",
       "      <th>4</th>\n",
       "      <td>333cc031262566b8da49</td>\n",
       "      <td>How do I save down my bitcoin image address fr...</td>\n",
       "    </tr>\n",
       "    <tr>\n",
       "      <th>...</th>\n",
       "      <td>...</td>\n",
       "      <td>...</td>\n",
       "    </tr>\n",
       "    <tr>\n",
       "      <th>522444</th>\n",
       "      <td>e8e6aa5226f36c27fe41</td>\n",
       "      <td>In terms of absolute passion and leadership, w...</td>\n",
       "    </tr>\n",
       "    <tr>\n",
       "      <th>522445</th>\n",
       "      <td>015fd068afcb9d0b4007</td>\n",
       "      <td>How do I make my orthodox Indian parents accep...</td>\n",
       "    </tr>\n",
       "    <tr>\n",
       "      <th>522446</th>\n",
       "      <td>9f0ef49eff6a3ff9e735</td>\n",
       "      <td>How can air force officers go to ranger school?</td>\n",
       "    </tr>\n",
       "    <tr>\n",
       "      <th>522447</th>\n",
       "      <td>d6b02f52f76dc4c22afd</td>\n",
       "      <td>Why does my brothers cow kick me all the time?</td>\n",
       "    </tr>\n",
       "    <tr>\n",
       "      <th>522448</th>\n",
       "      <td>132ef601b08de269aee9</td>\n",
       "      <td>How was Japan's national animal chosen?</td>\n",
       "    </tr>\n",
       "  </tbody>\n",
       "</table>\n",
       "<p>522449 rows × 2 columns</p>\n",
       "</div>"
      ],
      "text/plain": [
       "                         qid  \\\n",
       "0       f56a9a31974dc66186e8   \n",
       "1       d957c3758060f45da303   \n",
       "2       ad822d5abaedb9e247b9   \n",
       "3       4e979c23eeb6a4bd1f2e   \n",
       "4       333cc031262566b8da49   \n",
       "...                      ...   \n",
       "522444  e8e6aa5226f36c27fe41   \n",
       "522445  015fd068afcb9d0b4007   \n",
       "522446  9f0ef49eff6a3ff9e735   \n",
       "522447  d6b02f52f76dc4c22afd   \n",
       "522448  132ef601b08de269aee9   \n",
       "\n",
       "                                            question_text  \n",
       "0       Is it a good idea to go through a phlebotomy c...  \n",
       "1       How can I fix a lead into a camlin compass to ...  \n",
       "2                     How many animes are there in world?  \n",
       "3                          How do I tell my family I cut?  \n",
       "4       How do I save down my bitcoin image address fr...  \n",
       "...                                                   ...  \n",
       "522444  In terms of absolute passion and leadership, w...  \n",
       "522445  How do I make my orthodox Indian parents accep...  \n",
       "522446    How can air force officers go to ranger school?  \n",
       "522447     Why does my brothers cow kick me all the time?  \n",
       "522448            How was Japan's national animal chosen?  \n",
       "\n",
       "[522449 rows x 2 columns]"
      ]
     },
     "execution_count": 7,
     "metadata": {},
     "output_type": "execute_result"
    }
   ],
   "source": [
    "train_data\n",
    "actual_test=test_data.copy()\n",
    "actual_test"
   ]
  },
  {
   "cell_type": "code",
   "execution_count": 8,
   "metadata": {
    "execution": {
     "iopub.execute_input": "2020-12-20T11:00:48.319172Z",
     "iopub.status.busy": "2020-12-20T11:00:48.318162Z",
     "iopub.status.idle": "2020-12-20T11:00:48.695257Z",
     "shell.execute_reply": "2020-12-20T11:00:48.695859Z"
    },
    "papermill": {
     "duration": 0.420192,
     "end_time": "2020-12-20T11:00:48.696009",
     "exception": false,
     "start_time": "2020-12-20T11:00:48.275817",
     "status": "completed"
    },
    "tags": []
   },
   "outputs": [],
   "source": [
    "#train-test split - train=0.8,test=0.2\n",
    "train_df, test_df = train_test_split(train_data, test_size=0.2, random_state=2020)"
   ]
  },
  {
   "cell_type": "code",
   "execution_count": 9,
   "metadata": {
    "execution": {
     "iopub.execute_input": "2020-12-20T11:00:48.779502Z",
     "iopub.status.busy": "2020-12-20T11:00:48.778809Z",
     "iopub.status.idle": "2020-12-20T11:00:48.789497Z",
     "shell.execute_reply": "2020-12-20T11:00:48.788950Z"
    },
    "papermill": {
     "duration": 0.054815,
     "end_time": "2020-12-20T11:00:48.789608",
     "exception": false,
     "start_time": "2020-12-20T11:00:48.734793",
     "status": "completed"
    },
    "tags": []
   },
   "outputs": [
    {
     "data": {
      "text/plain": [
       "0    588066\n",
       "1     38872\n",
       "Name: target, dtype: int64"
      ]
     },
     "execution_count": 9,
     "metadata": {},
     "output_type": "execute_result"
    }
   ],
   "source": [
    "train_df[\"target\"].value_counts()"
   ]
  },
  {
   "cell_type": "code",
   "execution_count": 10,
   "metadata": {
    "execution": {
     "iopub.execute_input": "2020-12-20T11:00:48.868190Z",
     "iopub.status.busy": "2020-12-20T11:00:48.867492Z",
     "iopub.status.idle": "2020-12-20T11:00:49.262168Z",
     "shell.execute_reply": "2020-12-20T11:00:49.261559Z"
    },
    "papermill": {
     "duration": 0.43641,
     "end_time": "2020-12-20T11:00:49.262296",
     "exception": false,
     "start_time": "2020-12-20T11:00:48.825886",
     "status": "completed"
    },
    "tags": []
   },
   "outputs": [],
   "source": [
    "train,test = train_test_split(train_data, test_size=0.2)"
   ]
  },
  {
   "cell_type": "code",
   "execution_count": 11,
   "metadata": {
    "execution": {
     "iopub.execute_input": "2020-12-20T11:00:49.339521Z",
     "iopub.status.busy": "2020-12-20T11:00:49.338846Z",
     "iopub.status.idle": "2020-12-20T11:00:49.351624Z",
     "shell.execute_reply": "2020-12-20T11:00:49.350983Z"
    },
    "papermill": {
     "duration": 0.052944,
     "end_time": "2020-12-20T11:00:49.351739",
     "exception": false,
     "start_time": "2020-12-20T11:00:49.298795",
     "status": "completed"
    },
    "tags": []
   },
   "outputs": [
    {
     "data": {
      "text/plain": [
       "0    588172\n",
       "1     38766\n",
       "Name: target, dtype: int64"
      ]
     },
     "execution_count": 11,
     "metadata": {},
     "output_type": "execute_result"
    }
   ],
   "source": [
    "train[\"target\"].value_counts()"
   ]
  },
  {
   "cell_type": "code",
   "execution_count": 12,
   "metadata": {
    "execution": {
     "iopub.execute_input": "2020-12-20T11:00:49.431172Z",
     "iopub.status.busy": "2020-12-20T11:00:49.430494Z",
     "iopub.status.idle": "2020-12-20T11:00:49.439861Z",
     "shell.execute_reply": "2020-12-20T11:00:49.440381Z"
    },
    "papermill": {
     "duration": 0.051975,
     "end_time": "2020-12-20T11:00:49.440544",
     "exception": false,
     "start_time": "2020-12-20T11:00:49.388569",
     "status": "completed"
    },
    "tags": []
   },
   "outputs": [
    {
     "data": {
      "text/plain": [
       "0    147050\n",
       "1      9685\n",
       "Name: target, dtype: int64"
      ]
     },
     "execution_count": 12,
     "metadata": {},
     "output_type": "execute_result"
    }
   ],
   "source": [
    "test[\"target\"].value_counts()"
   ]
  },
  {
   "cell_type": "code",
   "execution_count": 13,
   "metadata": {
    "execution": {
     "iopub.execute_input": "2020-12-20T11:00:49.521325Z",
     "iopub.status.busy": "2020-12-20T11:00:49.519996Z",
     "iopub.status.idle": "2020-12-20T11:00:49.630325Z",
     "shell.execute_reply": "2020-12-20T11:00:49.629542Z"
    },
    "papermill": {
     "duration": 0.152167,
     "end_time": "2020-12-20T11:00:49.630459",
     "exception": false,
     "start_time": "2020-12-20T11:00:49.478292",
     "status": "completed"
    },
    "tags": []
   },
   "outputs": [
    {
     "name": "stdout",
     "output_type": "stream",
     "text": [
      "588172\n",
      "38766\n"
     ]
    }
   ],
   "source": [
    "train_sincere_que = train[train['target']==0]\n",
    "train_insincere_que = train[train['target']==1]\n",
    "train_sincere_que_count, train_insincere_que_count = train['target'].value_counts()\n",
    "print(train_sincere_que_count)\n",
    "print(train_insincere_que_count)"
   ]
  },
  {
   "cell_type": "code",
   "execution_count": 14,
   "metadata": {
    "_kg_hide-output": true,
    "execution": {
     "iopub.execute_input": "2020-12-20T11:00:49.727622Z",
     "iopub.status.busy": "2020-12-20T11:00:49.715893Z",
     "iopub.status.idle": "2020-12-20T11:00:49.951928Z",
     "shell.execute_reply": "2020-12-20T11:00:49.951128Z"
    },
    "papermill": {
     "duration": 0.283252,
     "end_time": "2020-12-20T11:00:49.952058",
     "exception": false,
     "start_time": "2020-12-20T11:00:49.668806",
     "status": "completed"
    },
    "tags": []
   },
   "outputs": [
    {
     "data": {
      "image/png": "[encoded data removed]",
      "text/plain": [
       "<Figure size 360x360 with 1 Axes>"
      ]
     },
     "metadata": {},
     "output_type": "display_data"
    },
    {
     "data": {
      "text/plain": [
       "<matplotlib.axes._subplots.AxesSubplot at 0x7fc0914f9490>"
      ]
     },
     "execution_count": 14,
     "metadata": {},
     "output_type": "execute_result"
    },
    {
     "data": {
      "image/png": "[encoded data removed]",
      "text/plain": [
       "<Figure size 432x288 with 1 Axes>"
      ]
     },
     "metadata": {
      "needs_background": "light"
     },
     "output_type": "display_data"
    }
   ],
   "source": [
    "# Declare a figure with a custom size\n",
    "fig = plt.figure(figsize=(5, 5))\n",
    "\n",
    "labels = 'Sincere', 'Insincere'\n",
    "\n",
    "sizes = [len(train_sincere_que), len(train_insincere_que)] \n",
    "plt.pie(sizes, labels=labels, autopct='%1.1f%%',\n",
    "        shadow=True, startangle=90)\n",
    "plt.axis('equal')  \n",
    "plt.show()\n",
    "train['target'].value_counts().plot.bar(title=\"Sincere vs Insincere\")"
   ]
  },
  {
   "cell_type": "markdown",
   "metadata": {
    "papermill": {
     "duration": 0.042433,
     "end_time": "2020-12-20T11:00:50.039290",
     "exception": false,
     "start_time": "2020-12-20T11:00:49.996857",
     "status": "completed"
    },
    "tags": []
   },
   "source": [
    "As you can see Data is highly imbalanced."
   ]
  },
  {
   "cell_type": "markdown",
   "metadata": {
    "papermill": {
     "duration": 0.046348,
     "end_time": "2020-12-20T11:00:50.128578",
     "exception": false,
     "start_time": "2020-12-20T11:00:50.082230",
     "status": "completed"
    },
    "tags": []
   },
   "source": [
    "### 4. Preprocessing"
   ]
  },
  {
   "cell_type": "markdown",
   "metadata": {
    "papermill": {
     "duration": 0.044902,
     "end_time": "2020-12-20T11:00:50.220522",
     "exception": false,
     "start_time": "2020-12-20T11:00:50.175620",
     "status": "completed"
    },
    "tags": []
   },
   "source": [
    "* Train -> Train_data(80%)\n",
    "* Test -> Train_data(cross Validation data)(20%)\n",
    "* TestA -> Actual test data"
   ]
  },
  {
   "cell_type": "code",
   "execution_count": 15,
   "metadata": {
    "execution": {
     "iopub.execute_input": "2020-12-20T11:00:50.313736Z",
     "iopub.status.busy": "2020-12-20T11:00:50.313026Z",
     "iopub.status.idle": "2020-12-20T11:00:50.317816Z",
     "shell.execute_reply": "2020-12-20T11:00:50.317183Z"
    },
    "papermill": {
     "duration": 0.055893,
     "end_time": "2020-12-20T11:00:50.317961",
     "exception": false,
     "start_time": "2020-12-20T11:00:50.262068",
     "status": "completed"
    },
    "tags": []
   },
   "outputs": [],
   "source": [
    "train_que = train['question_text']\n",
    "test_que = test['question_text']\n",
    "testA_que=actual_test['question_text']"
   ]
  },
  {
   "cell_type": "code",
   "execution_count": 16,
   "metadata": {
    "execution": {
     "iopub.execute_input": "2020-12-20T11:00:50.524370Z",
     "iopub.status.busy": "2020-12-20T11:00:50.415342Z",
     "iopub.status.idle": "2020-12-20T11:01:25.454213Z",
     "shell.execute_reply": "2020-12-20T11:01:25.454809Z"
    },
    "papermill": {
     "duration": 35.094974,
     "end_time": "2020-12-20T11:01:25.454971",
     "exception": false,
     "start_time": "2020-12-20T11:00:50.359997",
     "status": "completed"
    },
    "tags": []
   },
   "outputs": [],
   "source": [
    "# remove punctuations\n",
    "train_que = train_que.str.replace(r'[^\\w\\d\\s]', ' ')\n",
    "test_que = test_que.str.replace(r'[^\\w\\d\\s]', ' ')\n",
    "testA_que = testA_que.str.replace(r'[^\\w\\d\\s]', ' ')\n",
    "\n",
    "# replace whitespace between terms with a single space\n",
    "train_que = train_que.str.replace(r'\\s+', ' ')\n",
    "test_que = test_que.str.replace(r'\\s+', ' ')\n",
    "testA_que = testA_que.str.replace(r'\\s+', ' ')\n",
    "\n",
    "# remove leading and trailing whitespaces\n",
    "train_que = train_que.str.replace(r'^\\s+|\\s+?$', '')\n",
    "test_que = test_que.str.replace(r'^\\s+|\\s+?$', '')\n",
    "testA_que = testA_que.str.replace(r'^\\s+|\\s+?$', '')\n",
    "\n",
    "#removing numbers\n",
    "train_que=train_que.apply(lambda x:re.sub('\\d','',x))\n",
    "test_que=test_que.apply(lambda x:re.sub('\\d','',x))\n",
    "testA_que=testA_que.apply(lambda x:re.sub('\\d','',x))\n"
   ]
  },
  {
   "cell_type": "code",
   "execution_count": 17,
   "metadata": {
    "execution": {
     "iopub.execute_input": "2020-12-20T11:01:25.614008Z",
     "iopub.status.busy": "2020-12-20T11:01:25.613240Z",
     "iopub.status.idle": "2020-12-20T11:01:26.555351Z",
     "shell.execute_reply": "2020-12-20T11:01:26.555978Z"
    },
    "papermill": {
     "duration": 1.060436,
     "end_time": "2020-12-20T11:01:26.556133",
     "exception": false,
     "start_time": "2020-12-20T11:01:25.495697",
     "status": "completed"
    },
    "tags": []
   },
   "outputs": [],
   "source": [
    "#convert to lower case\n",
    "train_que = train_que.str.lower()\n",
    "test_que = test_que.str.lower()\n",
    "testA_que = testA_que.str.lower()"
   ]
  },
  {
   "cell_type": "code",
   "execution_count": 18,
   "metadata": {
    "execution": {
     "iopub.execute_input": "2020-12-20T11:01:26.793681Z",
     "iopub.status.busy": "2020-12-20T11:01:26.792397Z",
     "iopub.status.idle": "2020-12-20T11:01:33.599487Z",
     "shell.execute_reply": "2020-12-20T11:01:33.598607Z"
    },
    "papermill": {
     "duration": 7.002949,
     "end_time": "2020-12-20T11:01:33.599612",
     "exception": false,
     "start_time": "2020-12-20T11:01:26.596663",
     "status": "completed"
    },
    "tags": []
   },
   "outputs": [],
   "source": [
    "#contraction\n",
    "contraction_mapping = {\"ain't\": \"is not\", \"aren't\": \"are not\",\"can't\": \"cannot\", \"'cause\": \"because\", \"could've\": \"could have\", \"couldn't\": \"could not\", \"didn't\": \"did not\",  \"doesn't\": \"does not\", \"don't\": \"do not\", \"hadn't\": \"had not\", \"hasn't\": \"has not\", \"haven't\": \"have not\", \"he'd\": \"he would\",\"he'll\": \"he will\", \"he's\": \"he is\", \"how'd\": \"how did\", \"how'd'y\": \"how do you\", \"how'll\": \"how will\", \"how's\": \"how is\",  \"I'd\": \"I would\", \"I'd've\": \"I would have\", \"I'll\": \"I will\", \"I'll've\": \"I will have\",\"I'm\": \"I am\", \"I've\": \"I have\", \"i'd\": \"i would\", \"i'd've\": \"i would have\", \"i'll\": \"i will\",  \"i'll've\": \"i will have\",\"i'm\": \"i am\", \"i've\": \"i have\", \"isn't\": \"is not\", \"it'd\": \"it would\", \"it'd've\": \"it would have\", \"it'll\": \"it will\", \"it'll've\": \"it will have\",\"it's\": \"it is\", \"let's\": \"let us\", \"ma'am\": \"madam\", \"mayn't\": \"may not\", \"might've\": \"might have\",\"mightn't\": \"might not\",\"mightn't've\": \"might not have\", \"must've\": \"must have\", \"mustn't\": \"must not\", \"mustn't've\": \"must not have\", \"needn't\": \"need not\", \"needn't've\": \"need not have\",\"o'clock\": \"of the clock\", \"oughtn't\": \"ought not\", \"oughtn't've\": \"ought not have\", \"shan't\": \"shall not\", \"sha'n't\": \"shall not\", \"shan't've\": \"shall not have\", \"she'd\": \"she would\", \"she'd've\": \"she would have\", \"she'll\": \"she will\", \"she'll've\": \"she will have\", \"she's\": \"she is\", \"should've\": \"should have\", \"shouldn't\": \"should not\", \"shouldn't've\": \"should not have\", \"so've\": \"so have\",\"so's\": \"so as\", \"this's\": \"this is\",\"that'd\": \"that would\", \"that'd've\": \"that would have\", \"that's\": \"that is\", \"there'd\": \"there would\", \"there'd've\": \"there would have\", \"there's\": \"there is\", \"here's\": \"here is\",\"they'd\": \"they would\", \"they'd've\": \"they would have\", \"they'll\": \"they will\", \"they'll've\": \"they will have\", \"they're\": \"they are\", \"they've\": \"they have\", \"to've\": \"to have\", \"wasn't\": \"was not\", \"we'd\": \"we would\", \"we'd've\": \"we would have\", \"we'll\": \"we will\", \"we'll've\": \"we will have\", \"we're\": \"we are\", \"we've\": \"we have\", \"weren't\": \"were not\", \"what'll\": \"what will\", \"what'll've\": \"what will have\", \"what're\": \"what are\",  \"what's\": \"what is\", \"what've\": \"what have\", \"when's\": \"when is\", \"when've\": \"when have\", \"where'd\": \"where did\", \"where's\": \"where is\", \"where've\": \"where have\", \"who'll\": \"who will\", \"who'll've\": \"who will have\", \"who's\": \"who is\", \"who've\": \"who have\", \"why's\": \"why is\", \"why've\": \"why have\", \"will've\": \"will have\", \"won't\": \"will not\", \"won't've\": \"will not have\", \"would've\": \"would have\", \"wouldn't\": \"would not\", \"wouldn't've\": \"would not have\", \"y'all\": \"you all\", \"y'all'd\": \"you all would\",\"y'all'd've\": \"you all would have\",\"y'all're\": \"you all are\",\"y'all've\": \"you all have\",\"you'd\": \"you would\", \"you'd've\": \"you would have\", \"you'll\": \"you will\", \"you'll've\": \"you will have\", \"you're\": \"you are\", \"you've\": \"you have\" }\n",
    "def clean_contractions(text, mapping):\n",
    "    specials = [\"’\", \"‘\", \"´\", \"`\"]\n",
    "    for s in specials:\n",
    "        text = text.replace(s, \"'\")\n",
    "    text = ' '.join([mapping[t] if t in mapping else t for t in text.split(\" \")])\n",
    "    return text\n",
    "train_que=train_que.apply(lambda x: clean_contractions(x, contraction_mapping))\n",
    "test_que=test_que.apply(lambda x: clean_contractions(x, contraction_mapping))\n",
    "testA_que=testA_que.apply(lambda x: clean_contractions(x, contraction_mapping))"
   ]
  },
  {
   "cell_type": "code",
   "execution_count": 19,
   "metadata": {
    "execution": {
     "iopub.execute_input": "2020-12-20T11:01:33.686516Z",
     "iopub.status.busy": "2020-12-20T11:01:33.685816Z",
     "iopub.status.idle": "2020-12-20T11:01:33.724526Z",
     "shell.execute_reply": "2020-12-20T11:01:33.725411Z"
    },
    "papermill": {
     "duration": 0.085531,
     "end_time": "2020-12-20T11:01:33.725622",
     "exception": false,
     "start_time": "2020-12-20T11:01:33.640091",
     "status": "completed"
    },
    "tags": []
   },
   "outputs": [
    {
     "name": "stderr",
     "output_type": "stream",
     "text": [
      "/opt/conda/lib/python3.7/site-packages/ipykernel_launcher.py:1: SettingWithCopyWarning: \n",
      "A value is trying to be set on a copy of a slice from a DataFrame.\n",
      "Try using .loc[row_indexer,col_indexer] = value instead\n",
      "\n",
      "See the caveats in the documentation: https://pandas.pydata.org/pandas-docs/stable/user_guide/indexing.html#returning-a-view-versus-a-copy\n",
      "  \"\"\"Entry point for launching an IPython kernel.\n",
      "/opt/conda/lib/python3.7/site-packages/ipykernel_launcher.py:2: SettingWithCopyWarning: \n",
      "A value is trying to be set on a copy of a slice from a DataFrame.\n",
      "Try using .loc[row_indexer,col_indexer] = value instead\n",
      "\n",
      "See the caveats in the documentation: https://pandas.pydata.org/pandas-docs/stable/user_guide/indexing.html#returning-a-view-versus-a-copy\n",
      "  \n"
     ]
    },
    {
     "data": {
      "text/html": [
       "<div>\n",
       "<style scoped>\n",
       "    .dataframe tbody tr th:only-of-type {\n",
       "        vertical-align: middle;\n",
       "    }\n",
       "\n",
       "    .dataframe tbody tr th {\n",
       "        vertical-align: top;\n",
       "    }\n",
       "\n",
       "    .dataframe thead th {\n",
       "        text-align: right;\n",
       "    }\n",
       "</style>\n",
       "<table border=\"1\" class=\"dataframe\">\n",
       "  <thead>\n",
       "    <tr style=\"text-align: right;\">\n",
       "      <th></th>\n",
       "      <th>qid</th>\n",
       "      <th>question_text</th>\n",
       "      <th>target</th>\n",
       "      <th>clean_que</th>\n",
       "    </tr>\n",
       "  </thead>\n",
       "  <tbody>\n",
       "    <tr>\n",
       "      <th>763280</th>\n",
       "      <td>8b5c08026e07f06e4344</td>\n",
       "      <td>How can someone change your mind when you're a...</td>\n",
       "      <td>0</td>\n",
       "      <td>how can someone change your mind when you re a...</td>\n",
       "    </tr>\n",
       "    <tr>\n",
       "      <th>547552</th>\n",
       "      <td>60a3001dd486dda62004</td>\n",
       "      <td>What happens when throw water in extension?</td>\n",
       "      <td>0</td>\n",
       "      <td>what happens when throw water in extension</td>\n",
       "    </tr>\n",
       "    <tr>\n",
       "      <th>371374</th>\n",
       "      <td>59b4d7847750804a74f5</td>\n",
       "      <td>I am in the 2nd year of my graduation (B.A) I ...</td>\n",
       "      <td>0</td>\n",
       "      <td>i am in the nd year of my graduation b a i nee...</td>\n",
       "    </tr>\n",
       "    <tr>\n",
       "      <th>451896</th>\n",
       "      <td>93f6464040102d7942e1</td>\n",
       "      <td>Why do people appreciate Ye Jawani Hai Deewani...</td>\n",
       "      <td>0</td>\n",
       "      <td>why do people appreciate ye jawani hai deewani...</td>\n",
       "    </tr>\n",
       "    <tr>\n",
       "      <th>43521</th>\n",
       "      <td>63e833f99247b36f6c0b</td>\n",
       "      <td>Should Hindus in India start teaching Islam to...</td>\n",
       "      <td>0</td>\n",
       "      <td>should hindus in india start teaching islam to...</td>\n",
       "    </tr>\n",
       "  </tbody>\n",
       "</table>\n",
       "</div>"
      ],
      "text/plain": [
       "                         qid  \\\n",
       "763280  8b5c08026e07f06e4344   \n",
       "547552  60a3001dd486dda62004   \n",
       "371374  59b4d7847750804a74f5   \n",
       "451896  93f6464040102d7942e1   \n",
       "43521   63e833f99247b36f6c0b   \n",
       "\n",
       "                                            question_text  target  \\\n",
       "763280  How can someone change your mind when you're a...       0   \n",
       "547552        What happens when throw water in extension?       0   \n",
       "371374  I am in the 2nd year of my graduation (B.A) I ...       0   \n",
       "451896  Why do people appreciate Ye Jawani Hai Deewani...       0   \n",
       "43521   Should Hindus in India start teaching Islam to...       0   \n",
       "\n",
       "                                                clean_que  \n",
       "763280  how can someone change your mind when you re a...  \n",
       "547552         what happens when throw water in extension  \n",
       "371374  i am in the nd year of my graduation b a i nee...  \n",
       "451896  why do people appreciate ye jawani hai deewani...  \n",
       "43521   should hindus in india start teaching islam to...  "
      ]
     },
     "execution_count": 19,
     "metadata": {},
     "output_type": "execute_result"
    }
   ],
   "source": [
    "train['clean_que'] = train_que\n",
    "test['clean_que'] = test_que\n",
    "actual_test['clean_que'] = testA_que\n",
    "train.tail()"
   ]
  },
  {
   "cell_type": "markdown",
   "metadata": {
    "papermill": {
     "duration": 0.041855,
     "end_time": "2020-12-20T11:01:33.820121",
     "exception": false,
     "start_time": "2020-12-20T11:01:33.778266",
     "status": "completed"
    },
    "tags": []
   },
   "source": [
    "### 5. Feature selection"
   ]
  },
  {
   "cell_type": "code",
   "execution_count": 20,
   "metadata": {
    "execution": {
     "iopub.execute_input": "2020-12-20T11:01:33.910670Z",
     "iopub.status.busy": "2020-12-20T11:01:33.909989Z",
     "iopub.status.idle": "2020-12-20T11:01:33.952702Z",
     "shell.execute_reply": "2020-12-20T11:01:33.952006Z"
    },
    "papermill": {
     "duration": 0.090302,
     "end_time": "2020-12-20T11:01:33.952843",
     "exception": false,
     "start_time": "2020-12-20T11:01:33.862541",
     "status": "completed"
    },
    "tags": []
   },
   "outputs": [
    {
     "name": "stdout",
     "output_type": "stream",
     "text": [
      "487559    what are some good dissertations thesis writte...\n",
      "567923    which country has the hardest physics in their...\n",
      "229953    is there any suggestions on buying concert tic...\n",
      "18668     how does someone keep their children when they...\n",
      "478633                      what is wrong with transgenders\n",
      "                                ...                        \n",
      "522444    in terms of absolute passion and leadership wh...\n",
      "522445    how do i make my orthodox indian parents accep...\n",
      "522446       how can air force officers go to ranger school\n",
      "522447        why does my brothers cow kick me all the time\n",
      "522448               how was japan s national animal chosen\n",
      "Name: question_text, Length: 1306122, dtype: object\n"
     ]
    }
   ],
   "source": [
    "all_que = pd.concat([train_que, test_que,testA_que],axis=0)\n",
    "\n",
    "print(all_que)"
   ]
  },
  {
   "cell_type": "code",
   "execution_count": 21,
   "metadata": {
    "execution": {
     "iopub.execute_input": "2020-12-20T11:01:34.043735Z",
     "iopub.status.busy": "2020-12-20T11:01:34.042982Z",
     "iopub.status.idle": "2020-12-20T11:01:34.045638Z",
     "shell.execute_reply": "2020-12-20T11:01:34.046290Z"
    },
    "papermill": {
     "duration": 0.050737,
     "end_time": "2020-12-20T11:01:34.046446",
     "exception": false,
     "start_time": "2020-12-20T11:01:33.995709",
     "status": "completed"
    },
    "tags": []
   },
   "outputs": [],
   "source": [
    "all_que.reset_index(inplace=True,drop=True)"
   ]
  },
  {
   "cell_type": "code",
   "execution_count": 22,
   "metadata": {
    "execution": {
     "iopub.execute_input": "2020-12-20T11:01:34.137702Z",
     "iopub.status.busy": "2020-12-20T11:01:34.136679Z",
     "iopub.status.idle": "2020-12-20T11:01:34.142262Z",
     "shell.execute_reply": "2020-12-20T11:01:34.141625Z"
    },
    "papermill": {
     "duration": 0.054034,
     "end_time": "2020-12-20T11:01:34.142395",
     "exception": false,
     "start_time": "2020-12-20T11:01:34.088361",
     "status": "completed"
    },
    "tags": []
   },
   "outputs": [
    {
     "name": "stdout",
     "output_type": "stream",
     "text": [
      "0          what are some good dissertations thesis writte...\n",
      "1          which country has the hardest physics in their...\n",
      "2          is there any suggestions on buying concert tic...\n",
      "3          how does someone keep their children when they...\n",
      "4                            what is wrong with transgenders\n",
      "                                 ...                        \n",
      "1306117    in terms of absolute passion and leadership wh...\n",
      "1306118    how do i make my orthodox indian parents accep...\n",
      "1306119       how can air force officers go to ranger school\n",
      "1306120        why does my brothers cow kick me all the time\n",
      "1306121               how was japan s national animal chosen\n",
      "Name: question_text, Length: 1306122, dtype: object\n"
     ]
    }
   ],
   "source": [
    "print(all_que)"
   ]
  },
  {
   "cell_type": "code",
   "execution_count": 23,
   "metadata": {
    "execution": {
     "iopub.execute_input": "2020-12-20T11:01:34.268563Z",
     "iopub.status.busy": "2020-12-20T11:01:34.263201Z",
     "iopub.status.idle": "2020-12-20T11:02:37.351607Z",
     "shell.execute_reply": "2020-12-20T11:02:37.350998Z"
    },
    "papermill": {
     "duration": 63.166331,
     "end_time": "2020-12-20T11:02:37.351747",
     "exception": false,
     "start_time": "2020-12-20T11:01:34.185416",
     "status": "completed"
    },
    "tags": []
   },
   "outputs": [],
   "source": [
    "word_vectorizer = TfidfVectorizer(\n",
    "        sublinear_tf=True,\n",
    "        strip_accents='unicode',\n",
    "        analyzer='word',\n",
    "        min_df=5,\n",
    "        norm='l2',\n",
    "        ngram_range=(1, 1),\n",
    "        max_features=40000)\n",
    "\n",
    "word_vectorizer.fit(all_que)\n",
    "train_word_features = word_vectorizer.transform(train_que)\n",
    "test_word_features = word_vectorizer.transform(test_que)\n",
    "testA_word_features = word_vectorizer.transform(testA_que)"
   ]
  },
  {
   "cell_type": "code",
   "execution_count": 24,
   "metadata": {
    "execution": {
     "iopub.execute_input": "2020-12-20T11:02:37.458215Z",
     "iopub.status.busy": "2020-12-20T11:02:37.452983Z",
     "iopub.status.idle": "2020-12-20T11:12:37.662231Z",
     "shell.execute_reply": "2020-12-20T11:12:37.661402Z"
    },
    "papermill": {
     "duration": 600.266734,
     "end_time": "2020-12-20T11:12:37.662393",
     "exception": false,
     "start_time": "2020-12-20T11:02:37.395659",
     "status": "completed"
    },
    "tags": []
   },
   "outputs": [],
   "source": [
    "char_vectorizer = TfidfVectorizer(\n",
    "    sublinear_tf=True,\n",
    "    strip_accents='unicode',\n",
    "    analyzer='char',\n",
    "    min_df=5,\n",
    "    ngram_range=(2, 4),\n",
    "    max_features=30000)\n",
    "\n",
    "char_vectorizer.fit(all_que)\n",
    "train_char_features = char_vectorizer.transform(train_que)\n",
    "test_char_features = char_vectorizer.transform(test_que)\n",
    "testA_char_features = char_vectorizer.transform(testA_que)"
   ]
  },
  {
   "cell_type": "code",
   "execution_count": 25,
   "metadata": {
    "execution": {
     "iopub.execute_input": "2020-12-20T11:12:37.760131Z",
     "iopub.status.busy": "2020-12-20T11:12:37.759187Z",
     "iopub.status.idle": "2020-12-20T11:12:37.763208Z",
     "shell.execute_reply": "2020-12-20T11:12:37.764198Z"
    },
    "papermill": {
     "duration": 0.05611,
     "end_time": "2020-12-20T11:12:37.764402",
     "exception": false,
     "start_time": "2020-12-20T11:12:37.708292",
     "status": "completed"
    },
    "tags": []
   },
   "outputs": [
    {
     "name": "stdout",
     "output_type": "stream",
     "text": [
      "(626938, 40000)\n",
      "(156735, 40000)\n",
      "(522449, 40000)\n"
     ]
    }
   ],
   "source": [
    "print(train_word_features.shape)\n",
    "print(test_word_features.shape)\n",
    "print(testA_word_features.shape)"
   ]
  },
  {
   "cell_type": "code",
   "execution_count": 26,
   "metadata": {
    "execution": {
     "iopub.execute_input": "2020-12-20T11:12:37.860027Z",
     "iopub.status.busy": "2020-12-20T11:12:37.859168Z",
     "iopub.status.idle": "2020-12-20T11:12:37.862431Z",
     "shell.execute_reply": "2020-12-20T11:12:37.862975Z"
    },
    "papermill": {
     "duration": 0.053697,
     "end_time": "2020-12-20T11:12:37.863119",
     "exception": false,
     "start_time": "2020-12-20T11:12:37.809422",
     "status": "completed"
    },
    "tags": []
   },
   "outputs": [
    {
     "name": "stdout",
     "output_type": "stream",
     "text": [
      "(626938, 30000)\n",
      "(156735, 30000)\n",
      "(522449, 30000)\n"
     ]
    }
   ],
   "source": [
    "print(train_char_features.shape)\n",
    "print(test_char_features.shape)\n",
    "print(testA_char_features.shape)"
   ]
  },
  {
   "cell_type": "code",
   "execution_count": 27,
   "metadata": {
    "execution": {
     "iopub.execute_input": "2020-12-20T11:12:37.963299Z",
     "iopub.status.busy": "2020-12-20T11:12:37.962210Z",
     "iopub.status.idle": "2020-12-20T11:13:08.590288Z",
     "shell.execute_reply": "2020-12-20T11:13:08.590852Z"
    },
    "papermill": {
     "duration": 30.683972,
     "end_time": "2020-12-20T11:13:08.591008",
     "exception": false,
     "start_time": "2020-12-20T11:12:37.907036",
     "status": "completed"
    },
    "tags": []
   },
   "outputs": [],
   "source": [
    "train_features = hstack([train_word_features,\n",
    "                         train_char_features,\n",
    "                        ]).tocsr()\n",
    "test_features = hstack([test_word_features,\n",
    "                        test_char_features,\n",
    "                       ]).tocsr()\n",
    "testA_features = hstack([testA_word_features,\n",
    "                         testA_char_features,\n",
    "                        ]).tocsr()"
   ]
  },
  {
   "cell_type": "code",
   "execution_count": 28,
   "metadata": {
    "execution": {
     "iopub.execute_input": "2020-12-20T11:13:08.684864Z",
     "iopub.status.busy": "2020-12-20T11:13:08.684050Z",
     "iopub.status.idle": "2020-12-20T11:13:08.688119Z",
     "shell.execute_reply": "2020-12-20T11:13:08.687452Z"
    },
    "papermill": {
     "duration": 0.052933,
     "end_time": "2020-12-20T11:13:08.688237",
     "exception": false,
     "start_time": "2020-12-20T11:13:08.635304",
     "status": "completed"
    },
    "tags": []
   },
   "outputs": [
    {
     "name": "stdout",
     "output_type": "stream",
     "text": [
      "(626938, 70000)\n",
      "(156735, 70000)\n",
      "(522449, 70000)\n"
     ]
    }
   ],
   "source": [
    "print(train_features.shape)\n",
    "print(test_features.shape)\n",
    "print(testA_features.shape)"
   ]
  },
  {
   "cell_type": "code",
   "execution_count": 29,
   "metadata": {
    "execution": {
     "iopub.execute_input": "2020-12-20T11:13:08.786271Z",
     "iopub.status.busy": "2020-12-20T11:13:08.785083Z",
     "iopub.status.idle": "2020-12-20T11:13:08.791830Z",
     "shell.execute_reply": "2020-12-20T11:13:08.791086Z"
    },
    "papermill": {
     "duration": 0.059292,
     "end_time": "2020-12-20T11:13:08.791990",
     "exception": false,
     "start_time": "2020-12-20T11:13:08.732698",
     "status": "completed"
    },
    "tags": []
   },
   "outputs": [
    {
     "name": "stdout",
     "output_type": "stream",
     "text": [
      "487559    0\n",
      "567923    0\n",
      "229953    0\n",
      "18668     0\n",
      "478633    1\n",
      "         ..\n",
      "763280    0\n",
      "547552    0\n",
      "371374    0\n",
      "451896    0\n",
      "43521     0\n",
      "Name: target, Length: 626938, dtype: int64\n"
     ]
    }
   ],
   "source": [
    "y=train.iloc[:][\"target\"]\n",
    "print(y)"
   ]
  },
  {
   "cell_type": "code",
   "execution_count": 30,
   "metadata": {
    "execution": {
     "iopub.execute_input": "2020-12-20T11:13:08.889881Z",
     "iopub.status.busy": "2020-12-20T11:13:08.888832Z",
     "iopub.status.idle": "2020-12-20T11:13:08.894291Z",
     "shell.execute_reply": "2020-12-20T11:13:08.893695Z"
    },
    "papermill": {
     "duration": 0.056635,
     "end_time": "2020-12-20T11:13:08.894513",
     "exception": false,
     "start_time": "2020-12-20T11:13:08.837878",
     "status": "completed"
    },
    "tags": []
   },
   "outputs": [
    {
     "name": "stdout",
     "output_type": "stream",
     "text": [
      "(626938, 70000)\n",
      "(156735, 70000)\n",
      "(522449, 70000)\n",
      "(626938,)\n"
     ]
    }
   ],
   "source": [
    "print(train_features.shape)\n",
    "print(test_features.shape)\n",
    "print(testA_features.shape)\n",
    "print(y.shape)"
   ]
  },
  {
   "cell_type": "markdown",
   "metadata": {
    "papermill": {
     "duration": 0.045231,
     "end_time": "2020-12-20T11:13:08.985376",
     "exception": false,
     "start_time": "2020-12-20T11:13:08.940145",
     "status": "completed"
    },
    "tags": []
   },
   "source": [
    "## logisitic"
   ]
  },
  {
   "cell_type": "markdown",
   "metadata": {
    "papermill": {
     "duration": 0.046439,
     "end_time": "2020-12-20T11:13:09.084926",
     "exception": false,
     "start_time": "2020-12-20T11:13:09.038487",
     "status": "completed"
    },
    "tags": []
   },
   "source": [
    "This function will loop through the threshold values from 0.01 to 0.99 to find the threshold where we get maximum f1-score."
   ]
  },
  {
   "cell_type": "code",
   "execution_count": 31,
   "metadata": {
    "execution": {
     "iopub.execute_input": "2020-12-20T11:13:09.187012Z",
     "iopub.status.busy": "2020-12-20T11:13:09.186267Z",
     "iopub.status.idle": "2020-12-20T11:13:09.189731Z",
     "shell.execute_reply": "2020-12-20T11:13:09.189156Z"
    },
    "papermill": {
     "duration": 0.05857,
     "end_time": "2020-12-20T11:13:09.189860",
     "exception": false,
     "start_time": "2020-12-20T11:13:09.131290",
     "status": "completed"
    },
    "tags": []
   },
   "outputs": [],
   "source": [
    " def find_thresh(prediction_prob):\n",
    "    max1=-1\n",
    "    #scores=[]\n",
    "    from sklearn import metrics\n",
    "    for thresh in np.arange(0.1, 1, 0.01):\n",
    "        thresh = np.round(thresh, 2)\n",
    "        y1=[]\n",
    "        for i in range(len(prediction_prob)):\n",
    "            y1.append(0 if prediction_prob[i,1]<thresh else 1)\n",
    "        s=metrics.f1_score(test[\"target\"],y1)\n",
    "        if s>max1:\n",
    "            max1=s\n",
    "            max_thresh=thresh\n",
    "    print(\"F1 score at threshold {0} is {1}\".format(max_thresh,max1))\n",
    "    return max_thresh"
   ]
  },
  {
   "cell_type": "markdown",
   "metadata": {
    "papermill": {
     "duration": 0.045989,
     "end_time": "2020-12-20T11:13:09.283343",
     "exception": false,
     "start_time": "2020-12-20T11:13:09.237354",
     "status": "completed"
    },
    "tags": []
   },
   "source": [
    "Below is the manual grid search implementation for finding best C(regulizer) parameter value."
   ]
  },
  {
   "cell_type": "code",
   "execution_count": 32,
   "metadata": {
    "execution": {
     "iopub.execute_input": "2020-12-20T11:13:09.384296Z",
     "iopub.status.busy": "2020-12-20T11:13:09.383533Z",
     "iopub.status.idle": "2020-12-20T11:16:27.335669Z",
     "shell.execute_reply": "2020-12-20T11:16:27.336218Z"
    },
    "papermill": {
     "duration": 198.006252,
     "end_time": "2020-12-20T11:16:27.336381",
     "exception": false,
     "start_time": "2020-12-20T11:13:09.330129",
     "status": "completed"
    },
    "tags": []
   },
   "outputs": [
    {
     "name": "stderr",
     "output_type": "stream",
     "text": [
      "[Parallel(n_jobs=-1)]: Using backend LokyBackend with 4 concurrent workers.\n",
      "[Parallel(n_jobs=-1)]: Done   1 out of   1 | elapsed:  1.1min finished\n"
     ]
    },
    {
     "name": "stdout",
     "output_type": "stream",
     "text": [
      "at c=0.97\n",
      "F1 score at threshold 0.25 is 0.6362045314791164\n"
     ]
    },
    {
     "name": "stderr",
     "output_type": "stream",
     "text": [
      "[Parallel(n_jobs=-1)]: Using backend LokyBackend with 4 concurrent workers.\n",
      "[Parallel(n_jobs=-1)]: Done   1 out of   1 | elapsed:  1.1min finished\n"
     ]
    },
    {
     "name": "stdout",
     "output_type": "stream",
     "text": [
      "at c=0.98\n",
      "F1 score at threshold 0.25 is 0.6361099285748072\n"
     ]
    }
   ],
   "source": [
    "from sklearn.linear_model import LogisticRegression\n",
    "c_values=[0.97,0.98]\n",
    "for i in c_values:\n",
    "    model=LogisticRegression(solver='lbfgs',\n",
    "                             verbose=1,\n",
    "                             C=i,n_jobs=-1)\n",
    "    model.fit(train_features,y)\n",
    "    prediction_prob=model.predict_proba(test_features)\n",
    "    print(\"at c=\"+str(i))\n",
    "    max_thresh=find_thresh(prediction_prob)"
   ]
  },
  {
   "cell_type": "markdown",
   "metadata": {
    "papermill": {
     "duration": 0.048442,
     "end_time": "2020-12-20T11:16:27.433516",
     "exception": false,
     "start_time": "2020-12-20T11:16:27.385074",
     "status": "completed"
    },
    "tags": []
   },
   "source": [
    "### Here are some of our best cross validation score\n",
    "* at c=0.95 F1 score at threshold 0.26 is 0.6362327188940091\n",
    "* at c=0.96 F1 score at threshold 0.27 is 0.6369470102090422\n",
    "* at c=0.97 F1 score at threshold 0.28 is 0.6356115816427024\n",
    "* at c=0.98 F1 score at threshold 0.27 is 0.6362086600750086"
   ]
  },
  {
   "cell_type": "code",
   "execution_count": 33,
   "metadata": {
    "execution": {
     "iopub.execute_input": "2020-12-20T11:16:27.538413Z",
     "iopub.status.busy": "2020-12-20T11:16:27.537710Z",
     "iopub.status.idle": "2020-12-20T11:17:33.074262Z",
     "shell.execute_reply": "2020-12-20T11:17:33.073643Z"
    },
    "papermill": {
     "duration": 65.592654,
     "end_time": "2020-12-20T11:17:33.074380",
     "exception": false,
     "start_time": "2020-12-20T11:16:27.481726",
     "status": "completed"
    },
    "tags": []
   },
   "outputs": [
    {
     "name": "stderr",
     "output_type": "stream",
     "text": [
      "[Parallel(n_jobs=-1)]: Using backend LokyBackend with 4 concurrent workers.\n",
      "[Parallel(n_jobs=-1)]: Done   1 out of   1 | elapsed:  1.1min finished\n"
     ]
    },
    {
     "data": {
      "text/plain": [
       "LogisticRegression(C=0.96, n_jobs=-1, verbose=1)"
      ]
     },
     "execution_count": 33,
     "metadata": {},
     "output_type": "execute_result"
    }
   ],
   "source": [
    "from sklearn.linear_model import LogisticRegression\n",
    "model=LogisticRegression(#solver='saga',\n",
    "                         verbose=1,\n",
    "                         C=0.96,\n",
    "                         solver='lbfgs', \n",
    "                         n_jobs=-1)\n",
    "model.fit(train_features,y)"
   ]
  },
  {
   "cell_type": "code",
   "execution_count": 34,
   "metadata": {
    "execution": {
     "iopub.execute_input": "2020-12-20T11:17:33.182031Z",
     "iopub.status.busy": "2020-12-20T11:17:33.180838Z",
     "iopub.status.idle": "2020-12-20T11:17:33.600469Z",
     "shell.execute_reply": "2020-12-20T11:17:33.599809Z"
    },
    "papermill": {
     "duration": 0.475393,
     "end_time": "2020-12-20T11:17:33.600582",
     "exception": false,
     "start_time": "2020-12-20T11:17:33.125189",
     "status": "completed"
    },
    "tags": []
   },
   "outputs": [],
   "source": [
    "prediction_prob=model.predict_proba(test_features)\n",
    "predictionA_prob=model.predict_proba(testA_features)"
   ]
  },
  {
   "cell_type": "markdown",
   "metadata": {
    "papermill": {
     "duration": 0.050135,
     "end_time": "2020-12-20T11:17:33.700847",
     "exception": false,
     "start_time": "2020-12-20T11:17:33.650712",
     "status": "completed"
    },
    "tags": []
   },
   "source": [
    "max_thresh -> Threshold value where we got highest score."
   ]
  },
  {
   "cell_type": "code",
   "execution_count": 35,
   "metadata": {
    "execution": {
     "iopub.execute_input": "2020-12-20T11:17:33.828256Z",
     "iopub.status.busy": "2020-12-20T11:17:33.817835Z",
     "iopub.status.idle": "2020-12-20T11:18:04.681899Z",
     "shell.execute_reply": "2020-12-20T11:18:04.681103Z"
    },
    "papermill": {
     "duration": 30.931087,
     "end_time": "2020-12-20T11:18:04.682054",
     "exception": false,
     "start_time": "2020-12-20T11:17:33.750967",
     "status": "completed"
    },
    "tags": []
   },
   "outputs": [
    {
     "name": "stdout",
     "output_type": "stream",
     "text": [
      "F1 score at threshold 0.25 is 0.6358819076457229\n"
     ]
    },
    {
     "data": {
      "text/plain": [
       "0.25"
      ]
     },
     "execution_count": 35,
     "metadata": {},
     "output_type": "execute_result"
    }
   ],
   "source": [
    "max_thresh=find_thresh(prediction_prob)\n",
    "max_thresh"
   ]
  },
  {
   "cell_type": "markdown",
   "metadata": {
    "papermill": {
     "duration": 0.050629,
     "end_time": "2020-12-20T11:18:04.784811",
     "exception": false,
     "start_time": "2020-12-20T11:18:04.734182",
     "status": "completed"
    },
    "tags": []
   },
   "source": [
    "Now we are predicting final prediction for test data such that it will be classified as 0 if probability < max_thresh else 1."
   ]
  },
  {
   "cell_type": "code",
   "execution_count": 36,
   "metadata": {
    "execution": {
     "iopub.execute_input": "2020-12-20T11:18:04.897306Z",
     "iopub.status.busy": "2020-12-20T11:18:04.896377Z",
     "iopub.status.idle": "2020-12-20T11:18:05.242213Z",
     "shell.execute_reply": "2020-12-20T11:18:05.242740Z"
    },
    "papermill": {
     "duration": 0.40618,
     "end_time": "2020-12-20T11:18:05.242925",
     "exception": false,
     "start_time": "2020-12-20T11:18:04.836745",
     "status": "completed"
    },
    "tags": []
   },
   "outputs": [],
   "source": [
    "final_prediction=[]\n",
    "for i in range(len(predictionA_prob)):\n",
    "    final_prediction.append(0 if predictionA_prob[i,1]<max_thresh else 1)"
   ]
  },
  {
   "cell_type": "code",
   "execution_count": 37,
   "metadata": {
    "execution": {
     "iopub.execute_input": "2020-12-20T11:18:05.351128Z",
     "iopub.status.busy": "2020-12-20T11:18:05.350389Z",
     "iopub.status.idle": "2020-12-20T11:18:07.523138Z",
     "shell.execute_reply": "2020-12-20T11:18:07.521397Z"
    },
    "papermill": {
     "duration": 2.228947,
     "end_time": "2020-12-20T11:18:07.523285",
     "exception": false,
     "start_time": "2020-12-20T11:18:05.294338",
     "status": "completed"
    },
    "tags": []
   },
   "outputs": [],
   "source": [
    "submission = pd.DataFrame.from_dict({'qid': test_data['qid']})\n",
    "submission['target'] = final_prediction\n",
    "\n",
    "submission.to_csv('final_submission.csv', index=False)"
   ]
  },
  {
   "cell_type": "code",
   "execution_count": null,
   "metadata": {
    "papermill": {
     "duration": 0.051164,
     "end_time": "2020-12-20T11:18:07.626105",
     "exception": false,
     "start_time": "2020-12-20T11:18:07.574941",
     "status": "completed"
    },
    "tags": []
   },
   "outputs": [],
   "source": []
  }
 ],
 "metadata": {
  "kernelspec": {
   "display_name": "Python 3",
   "language": "python",
   "name": "python3"
  },
  "language_info": {
   "codemirror_mode": {
    "name": "ipython",
    "version": 3
   },
   "file_extension": ".py",
   "mimetype": "text/x-python",
   "name": "python",
   "nbconvert_exporter": "python",
   "pygments_lexer": "ipython3",
   "version": "3.7.6"
  },
  "papermill": {
   "duration": 1086.029614,
   "end_time": "2020-12-20T11:18:07.793086",
   "environment_variables": {},
   "exception": null,
   "input_path": "__notebook__.ipynb",
   "output_path": "__notebook__.ipynb",
   "parameters": {},
   "start_time": "2020-12-20T11:00:01.763472",
   "version": "2.1.0"
  }
 },
 "nbformat": 4,
 "nbformat_minor": 4
}
